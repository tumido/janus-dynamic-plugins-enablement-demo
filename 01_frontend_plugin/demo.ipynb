{
 "cells": [
  {
   "cell_type": "markdown",
   "metadata": {},
   "source": [
    "# 🖥️ Review existing Backstage deployment\n",
    "\n",
    "**https://backstage-developer-hub-backstage.apps-crc.testing/**"
   ]
  },
  {
   "cell_type": "markdown",
   "metadata": {},
   "source": [
    "# 🧑‍💻 Create a new plugin\n",
    "\n",
    "All steps here are the same as when we are creating a static plugin"
   ]
  },
  {
   "cell_type": "markdown",
   "metadata": {},
   "source": [
    "## 1️⃣ Let's start by bootstrapping a new plugin using `@backstage/cli`"
   ]
  },
  {
   "cell_type": "code",
   "execution_count": 15,
   "metadata": {
    "dotnet_interactive": {
     "language": "pwsh"
    },
    "polyglot_notebook": {
     "kernelName": "pwsh"
    }
   },
   "outputs": [
    {
     "name": "stderr",
     "output_type": "stream",
     "text": [
      "\n",
      "\u001b[32mCreating frontend plugin \u001b[36m@rhsummit2024/backstage-plugin-demo\u001b[39m\u001b[32m\u001b[39m\n",
      "\n",
      " \u001b[32mChecking Prerequisites:\u001b[39m\n",
      "\u001b[32m  \u001b[32mavailability  \u001b[39m\u001b[32m\u001b[36mbackstage-plugin-demo\u001b[39m\u001b[32m\u001b[39m \u001b[32m✔\u001b[39m \n",
      "\u001b[32m  \u001b[32mcreating      \u001b[39m\u001b[32m\u001b[36mtemp dir\u001b[39m\u001b[32m\u001b[39m \u001b[32m✔\u001b[39m \n",
      "\n",
      " \u001b[32mExecuting Template:\u001b[39m\n",
      "\u001b[32m  \u001b[32mcopying       \u001b[39m\u001b[32m\u001b[36m.eslintrc.js\u001b[39m\u001b[32m\u001b[39m \u001b[32m✔\u001b[39m \n",
      "\u001b[32m  \u001b[32mtemplating    \u001b[39m\u001b[32m\u001b[36mREADME.md.hbs\u001b[39m\u001b[32m\u001b[39m \u001b[32m✔\u001b[39m \n",
      "\u001b[32m  \u001b[32mtemplating    \u001b[39m\u001b[32m\u001b[36mpackage.json.hbs\u001b[39m\u001b[32m\u001b[39m \u001b[32m✔\u001b[39m \n",
      "\u001b[32m  \u001b[32mcopying       \u001b[39m\u001b[32m\u001b[36mtsconfig.json\u001b[39m\u001b[32m\u001b[39m \u001b[32m✔\u001b[39m \n",
      "\u001b[32m  \u001b[32mtemplating    \u001b[39m\u001b[32m\u001b[36mindex.tsx.hbs\u001b[39m\u001b[32m\u001b[39m \u001b[32m✔\u001b[39m \n",
      "\u001b[32m  \u001b[32mtemplating    \u001b[39m\u001b[32m\u001b[36mindex.ts.hbs\u001b[39m\u001b[32m\u001b[39m \u001b[32m✔\u001b[39m \n",
      "\u001b[32m  \u001b[32mtemplating    \u001b[39m\u001b[32m\u001b[36mplugin.test.ts.hbs\u001b[39m\u001b[32m\u001b[39m \u001b[32m✔\u001b[39m \n",
      "\u001b[32m  \u001b[32mtemplating    \u001b[39m\u001b[32m\u001b[36mplugin.ts.hbs\u001b[39m\u001b[32m\u001b[39m \u001b[32m✔\u001b[39m \n",
      "\u001b[32m  \u001b[32mtemplating    \u001b[39m\u001b[32m\u001b[36mroutes.ts.hbs\u001b[39m\u001b[32m\u001b[39m \u001b[32m✔\u001b[39m \n",
      "\u001b[32m  \u001b[32mcopying       \u001b[39m\u001b[32m\u001b[36msetupTests.ts\u001b[39m\u001b[32m\u001b[39m \u001b[32m✔\u001b[39m \n",
      "\u001b[32m  \u001b[32mtemplating    \u001b[39m\u001b[32m\u001b[36mExampleComponent.test.tsx.hbs\u001b[39m\u001b[32m\u001b[39m \u001b[32m✔\u001b[39m \n",
      "\u001b[32m  \u001b[32mtemplating    \u001b[39m\u001b[32m\u001b[36mExampleComponent.tsx.hbs\u001b[39m\u001b[32m\u001b[39m \u001b[32m✔\u001b[39m \n",
      "\u001b[32m  \u001b[32mcopying       \u001b[39m\u001b[32m\u001b[36mindex.ts\u001b[39m\u001b[32m\u001b[39m \u001b[32m✔\u001b[39m \n",
      "\u001b[32m  \u001b[32mtemplating    \u001b[39m\u001b[32m\u001b[36mExampleFetchComponent.tsx.hbs\u001b[39m\u001b[32m\u001b[39m \u001b[32m✔\u001b[39m \n",
      "\u001b[32m  \u001b[32mtemplating    \u001b[39m\u001b[32m\u001b[36mExampleFetchComponent.test.tsx.hbs\u001b[39m\u001b[32m\u001b[39m \u001b[32m✔\u001b[39m \n",
      "\u001b[32m  \u001b[32mcopying       \u001b[39m\u001b[32m\u001b[36mindex.ts\u001b[39m\u001b[32m\u001b[39m \u001b[32m✔\u001b[39m \n",
      "\n",
      " \u001b[32mInstalling:\u001b[39m\n",
      "\u001b[32m  \u001b[32mmoving        \u001b[39m\u001b[32m\u001b[36mbackstage-plugin-demo\u001b[39m\u001b[32m\u001b[39m \u001b[32m✔\u001b[39m \n",
      "\u001b[32m  \u001b[32mexecuting     \u001b[39m\u001b[32m\u001b[36myarn install\u001b[39m\u001b[32m\u001b[39m \u001b[32m✔\u001b[39m \n",
      "\u001b[32m  \u001b[32mexecuting     \u001b[39m\u001b[32m\u001b[36myarn lint --fix\u001b[39m\u001b[32m\u001b[39m \u001b[32m✔\u001b[39m \n",
      "\n",
      "\u001b[32m🎉  Successfully created plugin\u001b[39m\n",
      "\n"
     ]
    }
   ],
   "source": [
    "%%sh\n",
    "cd ../plugins\n",
    "\n",
    "npx @backstage/cli@0.26.4 new --scope @rhsummit2024 --select plugin --option id=demo"
   ]
  },
  {
   "cell_type": "markdown",
   "metadata": {},
   "source": [
    "## 2️⃣ Next, let's copy over some example files and components"
   ]
  },
  {
   "cell_type": "code",
   "execution_count": 16,
   "metadata": {},
   "outputs": [
    {
     "name": "stdout",
     "output_type": "stream",
     "text": [
      "1️⃣\tCopying over example files...\n",
      "2️⃣\tInstalling dependencies for the examples above...\n",
      "🎉\tDone\n"
     ]
    }
   ],
   "source": [
    "%%bash\n",
    "\n",
    "echo -e \"1️⃣\\tCopying over example files...\"\n",
    "cp -r ./src/components/DemoEntityCard ../plugins/backstage-plugin-demo/src/components\n",
    "cp app-config.yaml ../plugins/backstage-plugin-demo/\n",
    "cp config.d.ts ../plugins/backstage-plugin-demo/\n",
    "\n",
    "echo \"export { demoPlugin, DemoPage } from './plugin';\" > ../plugins/backstage-plugin-demo/src/index.ts\n",
    "echo \"export { DemoEntityCard } from './components/DemoEntityCard';\" >> ../plugins/backstage-plugin-demo/src/index.ts\n",
    "echo \"export { default as DemoIcon } from '@material-ui/icons/EmojiPeople';\" >> ../plugins/backstage-plugin-demo/src/index.ts\n",
    "\n",
    "echo -e \"2️⃣\\tInstalling dependencies for the examples above...\"\n",
    "cd ../plugins/backstage-plugin-demo\n",
    "yarn add -s -D react@^17.0.2 react-dom@^17.0.2 react-router-dom@^6.20.0  2> >(grep -v warning 1>&2)\n",
    "yarn add -s @backstage/plugin-catalog-react @material-ui/icons@4.11.3  2> >(grep -v warning 1>&2)\n",
    "\n",
    "echo -e \"🎉\\tDone\""
   ]
  },
  {
   "cell_type": "markdown",
   "metadata": {},
   "source": [
    "## 3️⃣ Review example files\n",
    "\n",
    "| Plugin `index.ts` | [./src/index.ts](../plugins/backstage-plugin-demo/src/index.ts)  |\n",
    "| --- | --- |\n",
    "| **Example component** | **[./src/components/DemoEntityCard/DemoEntityCard.tsx](../plugins/backstage-plugin-demo/src/components/DemoEntityCard/DemoEntityCard.tsx)** |\n",
    "| **Plugin config schema** | **[./config.d.ts](../plugins/backstage-plugin-demo/config.d.ts)** |"
   ]
  },
  {
   "cell_type": "markdown",
   "metadata": {},
   "source": [
    "## 4️⃣ Prepare package for release"
   ]
  },
  {
   "cell_type": "code",
   "execution_count": 17,
   "metadata": {},
   "outputs": [
    {
     "name": "stdout",
     "output_type": "stream",
     "text": [
      "1️⃣\tExport plugin config schema...\n",
      "2️⃣\tMark package as public..\n",
      "🎉\tDone\n"
     ]
    }
   ],
   "source": [
    "%%sh\n",
    "cd ../plugins/backstage-plugin-demo\n",
    "\n",
    "echo \"1️⃣\\tExport plugin config schema...\"\n",
    "npm pkg set \"configSchema\"=\"config.d.ts\"\n",
    "\n",
    "echo \"2️⃣\\tMark package as public..\"\n",
    "npm pkg delete \"private\"\n",
    "\n",
    "echo \"🎉\\tDone\""
   ]
  },
  {
   "cell_type": "markdown",
   "metadata": {},
   "source": [
    "# 🙇 Make plugin dynamic\n",
    "\n",
    "🎉🎉🎉🎉 **This is the new stuff!** 🎉🎉🎉🎉\n",
    "\n",
    "This follows steps from [Janus Showcase Dynamic plugins docs](https://github.com/janus-idp/backstage-showcase/blob/main/showcase-docs/dynamic-plugins.md#frontend-plugins)."
   ]
  },
  {
   "cell_type": "code",
   "execution_count": 18,
   "metadata": {},
   "outputs": [
    {
     "name": "stdout",
     "output_type": "stream",
     "text": [
      "1️⃣\tInstall @janus-idp/cli...\n",
      "2️⃣\tAdd exported assets to the package bundle...\n",
      "3️⃣\tAdd package scripts for release automation...\n",
      "🎉\tDone\n"
     ]
    }
   ],
   "source": [
    "%%bash\n",
    "cd ../plugins/backstage-plugin-demo\n",
    "\n",
    "echo -e \"1️⃣\\tInstall @janus-idp/cli...\"\n",
    "yarn add -s -D @janus-idp/cli  2> >(grep -v warning 1>&2)\n",
    "\n",
    "echo -e \"2️⃣\\tAdd exported assets to the package bundle...\"\n",
    "npm pkg set \"files[1]\"=\"dist-scalprum\"\n",
    "\n",
    "echo -e \"3️⃣\\tAdd package scripts for release automation...\"\n",
    "npm pkg set \"scripts.export-dynamic\"=\"janus-cli package export-dynamic-plugin\"\n",
    "npm pkg set \"scripts.postversion\"=\"yarn run export-dynamic\"\n",
    "\n",
    "echo -e \"🎉\\tDone\""
   ]
  },
  {
   "cell_type": "markdown",
   "metadata": {},
   "source": [
    "# 📦 Build and publish"
   ]
  },
  {
   "cell_type": "code",
   "execution_count": 19,
   "metadata": {},
   "outputs": [
    {
     "name": "stdout",
     "output_type": "stream",
     "text": [
      "\u001b[2K\u001b[1G\u001b[1myarn run v1.22.22\u001b[22m\n",
      "\u001b[2K\u001b[1G\u001b[2m$ /Users/tcoufal/Workspace/demo/plugins/backstage-plugin-demo/node_modules/.bin/tsc\u001b[22m\n",
      "\u001b[2K\u001b[1GDone in 1.93s.\n",
      "\u001b[2K\u001b[1G\u001b[1myarn run v1.22.22\u001b[22m\n",
      "\u001b[2K\u001b[1G\u001b[2m$ backstage-cli package build\u001b[22m\n"
     ]
    },
    {
     "name": "stderr",
     "output_type": "stream",
     "text": [
      "(node:70804) [DEP0040] DeprecationWarning: The `punycode` module is deprecated. Please use a userland alternative instead.\n",
      "(Use `node --trace-deprecation ...` to show where the warning was created)\n"
     ]
    },
    {
     "name": "stdout",
     "output_type": "stream",
     "text": [
      "\u001b[2K\u001b[1GDone in 1.27s.\n",
      "\u001b[2K\u001b[1G\u001b[1myarn run v1.22.22\u001b[22m\n",
      "\u001b[2K\u001b[1G\u001b[2m$ janus-cli package export-dynamic-plugin\u001b[22m\n"
     ]
    },
    {
     "name": "stderr",
     "output_type": "stream",
     "text": [
      "(node:70816) [DEP0040] DeprecationWarning: The `punycode` module is deprecated. Please use a userland alternative instead.\n",
      "(Use `node --trace-deprecation ...` to show where the warning was created)\n",
      "\u001b[32mNo scalprum config. Using default dynamic UI configuration:\u001b[39m\n",
      "\u001b[32m\u001b[36m{\u001b[39m\u001b[32m\u001b[39m\n",
      "\u001b[32m\u001b[36m  \"name\": \"rhsummit2024.backstage-plugin-demo\",\u001b[39m\u001b[32m\u001b[39m\n",
      "\u001b[32m\u001b[36m  \"exposedModules\": {\u001b[39m\u001b[32m\u001b[39m\n",
      "\u001b[32m\u001b[36m    \"PluginRoot\": \"./src/index.ts\"\u001b[39m\u001b[32m\u001b[39m\n",
      "\u001b[32m\u001b[36m  }\u001b[39m\u001b[32m\u001b[39m\n",
      "\u001b[32m\u001b[36m}\u001b[39m\u001b[32m\u001b[39m\n",
      "\u001b[32mIf you wish to change the defaults, add \"scalprum\" configuration to plugin \"package.json\" file, or use the '--scalprum-config' option to specify an external config.\u001b[39m\n",
      "\u001b[32mGenerating dynamic frontend plugin assets in \u001b[36m/Users/tcoufal/Workspace/demo/plugins/backstage-plugin-demo/dist-scalprum\u001b[39m\u001b[32m\u001b[39m\n"
     ]
    },
    {
     "name": "stdout",
     "output_type": "stream",
     "text": [
      "  354.96 kB  \u001b[2mdist-scalprum/static/\u001b[22m\u001b[36m758.1f7bbe3b.chunk.js\u001b[39m\n",
      "  40.18 kB   \u001b[2mdist-scalprum/static/\u001b[22m\u001b[36m961.eceed8cd.chunk.js\u001b[39m\n",
      "  32.5 kB    \u001b[2mdist-scalprum/static/\u001b[22m\u001b[36mreact-syntax-highlighter_languages_highlight_mathematica.6de3b12e.chunk.js\u001b[39m\n",
      "  18.52 kB   \u001b[2mdist-scalprum/static/\u001b[22m\u001b[36m305.3fbfb654.chunk.js\u001b[39m\n",
      "  16.73 kB   \u001b[2mdist-scalprum/static/\u001b[22m\u001b[36mreact-syntax-highlighter_languages_highlight_isbl.ed19a356.chunk.js\u001b[39m\n",
      "  16.09 kB   \u001b[2mdist-scalprum/static/\u001b[22m\u001b[36m5588.01099cb9.chunk.js\u001b[39m\n",
      "  14.26 kB   \u001b[2mdist-scalprum/static/\u001b[22m\u001b[36m9333.18995370.chunk.js\u001b[39m\n",
      "  13.27 kB   \u001b[2mdist-scalprum/static/\u001b[22m\u001b[36mreact-syntax-highlighter_languages_highlight_gml.205c2e82.chunk.js\u001b[39m\n",
      "  10.88 kB   \u001b[2mdist-scalprum/static/\u001b[22m\u001b[36mreact-syntax-highlighter_languages_highlight_maxima.e484f1fd.chunk.js\u001b[39m\n",
      "  10.75 kB   \u001b[2mdist-scalprum/static/\u001b[22m\u001b[36mreact-syntax-highlighter_languages_highlight_sqf.a1d41787.chunk.js\u001b[39m\n",
      "  10.59 kB   \u001b[2mdist-scalprum/static/\u001b[22m\u001b[36mreact-syntax-highlighter_languages_highlight_oneC.195fcaf2.chunk.js\u001b[39m\n",
      "  10.4 kB    \u001b[2mdist-scalprum/static/\u001b[22m\u001b[36m9277.d445c9eb.chunk.js\u001b[39m\n",
      "  9.29 kB    \u001b[2mdist-scalprum/static/react-syntax-highlighter/\u001b[22m\u001b[36mlowlight-import.ac597fbc.chunk.js\u001b[39m\n",
      "  8.68 kB    \u001b[2mdist-scalprum/static/\u001b[22m\u001b[36m3585.819b2a0f.chunk.js\u001b[39m\n",
      "  7.36 kB    \u001b[2mdist-scalprum/\u001b[22m\u001b[36mrhsummit2024.backstage-plugin-demo.b36cae3ab73639241967.js\u001b[39m\n",
      "  7.23 kB    \u001b[2mdist-scalprum/static/\u001b[22m\u001b[36mreact-syntax-highlighter_languages_highlight_pgsql.d217c07c.chunk.js\u001b[39m\n",
      "  6.95 kB    \u001b[2mdist-scalprum/static/\u001b[22m\u001b[36mreact-syntax-highlighter_languages_highlight_x86asm.e2337c7e.chunk.js\u001b[39m\n",
      "  6.7 kB     \u001b[2mdist-scalprum/static/\u001b[22m\u001b[36mreact-syntax-highlighter_languages_highlight_stata.fc9cba8c.chunk.js\u001b[39m\n",
      "  6.67 kB    \u001b[2mdist-scalprum/static/\u001b[22m\u001b[36mreact-syntax-highlighter_languages_highlight_mel.1f41f5f5.chunk.js\u001b[39m\n",
      "  6.43 kB    \u001b[2mdist-scalprum/static/\u001b[22m\u001b[36m4976.ffec188e.chunk.js\u001b[39m\n",
      "  6.11 kB    \u001b[2mdist-scalprum/static/\u001b[22m\u001b[36mreact-syntax-highlighter_languages_highlight_lsl.241fad69.chunk.js\u001b[39m\n",
      "  5.42 kB    \u001b[2mdist-scalprum/static/\u001b[22m\u001b[36m347.cf380ec9.chunk.js\u001b[39m\n",
      "  5.38 kB    \u001b[2mdist-scalprum/static/\u001b[22m\u001b[36mreact-syntax-highlighter_languages_highlight_gauss.0f7ad598.chunk.js\u001b[39m\n",
      "  5.36 kB    \u001b[2mdist-scalprum/static/\u001b[22m\u001b[36mreact-syntax-highlighter_languages_highlight_sqlMore.d59c1c5f.chunk.js\u001b[39m\n",
      "  5.27 kB    \u001b[2mdist-scalprum/static/\u001b[22m\u001b[36m7767.b96ef39e.chunk.js\u001b[39m\n",
      "  4.2 kB     \u001b[2mdist-scalprum/static/\u001b[22m\u001b[36mreact-syntax-highlighter_languages_highlight_arduino.c323e23c.chunk.js\u001b[39m\n",
      "  4.16 kB    \u001b[2mdist-scalprum/static/\u001b[22m\u001b[36mreact-syntax-highlighter_languages_highlight_vim.d604a44b.chunk.js\u001b[39m\n",
      "  3.67 kB    \u001b[2mdist-scalprum/static/\u001b[22m\u001b[36m8211.c8b75666.chunk.js\u001b[39m\n",
      "  3.67 kB    \u001b[2mdist-scalprum/static/\u001b[22m\u001b[36m592.830e5043.chunk.js\u001b[39m\n",
      "  3.51 kB    \u001b[2mdist-scalprum/static/\u001b[22m\u001b[36mreact-syntax-highlighter_languages_highlight_livecodeserver.097bd83a.chunk.js\u001b[39m\n",
      "  3.23 kB    \u001b[2mdist-scalprum/static/\u001b[22m\u001b[36mreact-syntax-highlighter_languages_highlight_swift.d3bd129b.chunk.js\u001b[39m\n",
      "  3.05 kB    \u001b[2mdist-scalprum/static/\u001b[22m\u001b[36mreact-syntax-highlighter_languages_highlight_scss.b314a387.chunk.js\u001b[39m\n",
      "  2.98 kB    \u001b[2mdist-scalprum/static/\u001b[22m\u001b[36mreact-syntax-highlighter_languages_highlight_less.51dbdc68.chunk.js\u001b[39m\n",
      "  2.96 kB    \u001b[2mdist-scalprum/static/\u001b[22m\u001b[36m6540.1d2bdf6d.chunk.js\u001b[39m\n",
      "  2.72 kB    \u001b[2mdist-scalprum/static/\u001b[22m\u001b[36mreact-syntax-highlighter_languages_highlight_stylus.5bf6a973.chunk.js\u001b[39m\n",
      "  2.69 kB    \u001b[2mdist-scalprum/static/\u001b[22m\u001b[36mreact-syntax-highlighter_languages_highlight_autoit.5ee0bdc3.chunk.js\u001b[39m\n",
      "  2.69 kB    \u001b[2mdist-scalprum/static/\u001b[22m\u001b[36mreact-syntax-highlighter_languages_highlight_glsl.b10226b5.chunk.js\u001b[39m\n",
      "  2.68 kB    \u001b[2mdist-scalprum/static/\u001b[22m\u001b[36mreact-syntax-highlighter_languages_highlight_css.09a38c43.chunk.js\u001b[39m\n",
      "  2.58 kB    \u001b[2mdist-scalprum/static/\u001b[22m\u001b[36mreact-syntax-highlighter_languages_highlight_typescript.afcc2347.chunk.js\u001b[39m\n",
      "  2.57 kB    \u001b[2mdist-scalprum/static/\u001b[22m\u001b[36mreact-syntax-highlighter_languages_highlight_nsis.d62cd835.chunk.js\u001b[39m\n",
      "  2.52 kB    \u001b[2mdist-scalprum/static/\u001b[22m\u001b[36mreact-syntax-highlighter_languages_highlight_sql.0ae20a94.chunk.js\u001b[39m\n",
      "  2.51 kB    \u001b[2mdist-scalprum/static/\u001b[22m\u001b[36mreact-syntax-highlighter_languages_highlight_xquery.6d9e7697.chunk.js\u001b[39m\n",
      "  2.41 kB    \u001b[2mdist-scalprum/static/\u001b[22m\u001b[36mreact-syntax-highlighter_languages_highlight_irpf90.dab6de4e.chunk.js\u001b[39m\n",
      "  2.41 kB    \u001b[2mdist-scalprum/static/\u001b[22m\u001b[36mreact-syntax-highlighter_languages_highlight_fortran.ae13d1dc.chunk.js\u001b[39m\n",
      "  2.37 kB    \u001b[2mdist-scalprum/static/\u001b[22m\u001b[36mreact-syntax-highlighter_languages_highlight_cLike.35755d13.chunk.js\u001b[39m\n",
      "  2.36 kB    \u001b[2mdist-scalprum/static/\u001b[22m\u001b[36mreact-syntax-highlighter_languages_highlight_stan.4e577508.chunk.js\u001b[39m\n",
      "  2.31 kB    \u001b[2mdist-scalprum/static/\u001b[22m\u001b[36mreact-syntax-highlighter_languages_highlight_cpp.1a7d69de.chunk.js\u001b[39m\n",
      "  2.3 kB     \u001b[2mdist-scalprum/static/\u001b[22m\u001b[36mreact-syntax-highlighter_languages_highlight_verilog.dfc5a730.chunk.js\u001b[39m\n",
      "  2.26 kB    \u001b[2mdist-scalprum/static/\u001b[22m\u001b[36mreact-syntax-highlighter_languages_highlight_javascript.9bc73d2e.chunk.js\u001b[39m\n",
      "  2.25 kB    \u001b[2mdist-scalprum/static/\u001b[22m\u001b[36mreact-syntax-highlighter_languages_highlight_powershell.8040891c.chunk.js\u001b[39m\n",
      "  2.2 kB     \u001b[2mdist-scalprum/static/\u001b[22m\u001b[36mreact-syntax-highlighter_languages_highlight_excel.0eeb1755.chunk.js\u001b[39m\n",
      "  2.14 kB    \u001b[2mdist-scalprum/static/\u001b[22m\u001b[36mreact-syntax-highlighter_languages_highlight_c.7db65f8b.chunk.js\u001b[39m\n",
      "  2.08 kB    \u001b[2mdist-scalprum/static/\u001b[22m\u001b[36mreact-syntax-highlighter_languages_highlight_puppet.27f8e3b7.chunk.js\u001b[39m\n",
      "  1.99 kB    \u001b[2mdist-scalprum/static/\u001b[22m\u001b[36mreact-syntax-highlighter_languages_highlight_clojure.857a9b67.chunk.js\u001b[39m\n",
      "  1.97 kB    \u001b[2mdist-scalprum/static/\u001b[22m\u001b[36mreact-syntax-highlighter_languages_highlight_perl.ee49fdd8.chunk.js\u001b[39m\n",
      "  1.95 kB    \u001b[2mdist-scalprum/static/\u001b[22m\u001b[36mreact-syntax-highlighter_languages_highlight_armasm.9f1b6421.chunk.js\u001b[39m\n",
      "  1.94 kB    \u001b[2mdist-scalprum/static/\u001b[22m\u001b[36mreact-syntax-highlighter_languages_highlight_php.1e00fe76.chunk.js\u001b[39m\n",
      "  1.94 kB    \u001b[2mdist-scalprum/static/\u001b[22m\u001b[36mreact-syntax-highlighter_languages_highlight_sas.058fc45a.chunk.js\u001b[39m\n",
      "  1.88 kB    \u001b[2mdist-scalprum/static/\u001b[22m\u001b[36mreact-syntax-highlighter_languages_highlight_julia.c562603d.chunk.js\u001b[39m\n",
      "  1.84 kB    \u001b[2mdist-scalprum/static/\u001b[22m\u001b[36mreact-syntax-highlighter_languages_highlight_coq.4c32c959.chunk.js\u001b[39m\n",
      "  1.76 kB    \u001b[2mdist-scalprum/static/\u001b[22m\u001b[36mreact-syntax-highlighter_languages_highlight_ruleslanguage.1676a935.chunk.js\u001b[39m\n",
      "  1.75 kB    \u001b[2mdist-scalprum/static/\u001b[22m\u001b[36mreact-syntax-highlighter_languages_highlight_hsp.44c43363.chunk.js\u001b[39m\n",
      "  1.69 kB    \u001b[2mdist-scalprum/static/\u001b[22m\u001b[36mreact-syntax-highlighter_languages_highlight_processing.f39f2cd1.chunk.js\u001b[39m\n",
      "  1.67 kB    \u001b[2mdist-scalprum/static/\u001b[22m\u001b[36mreact-syntax-highlighter_languages_highlight_ruby.b6eef0af.chunk.js\u001b[39m\n",
      "  1.66 kB    \u001b[2mdist-scalprum/static/\u001b[22m\u001b[36mreact-syntax-highlighter_languages_highlight_hy.333e4778.chunk.js\u001b[39m\n",
      "  1.64 kB    \u001b[2mdist-scalprum/static/\u001b[22m\u001b[36mreact-syntax-highlighter_languages_highlight_latex.3cf2cae1.chunk.js\u001b[39m\n",
      "  1.63 kB    \u001b[2mdist-scalprum/static/\u001b[22m\u001b[36mreact-syntax-highlighter_languages_highlight_csharp.99f09a26.chunk.js\u001b[39m\n",
      "  1.62 kB    \u001b[2mdist-scalprum/static/\u001b[22m\u001b[36mreact-syntax-highlighter_languages_highlight_scheme.5712a949.chunk.js\u001b[39m\n",
      "  1.61 kB    \u001b[2mdist-scalprum/static/\u001b[22m\u001b[36mreact-syntax-highlighter_languages_highlight_livescript.c4d737ad.chunk.js\u001b[39m\n",
      "  1.6 kB     \u001b[2mdist-scalprum/static/\u001b[22m\u001b[36mreact-syntax-highlighter_languages_highlight_r.f66a9e4d.chunk.js\u001b[39m\n",
      "  1.54 kB    \u001b[2mdist-scalprum/static/\u001b[22m\u001b[36mreact-syntax-highlighter_languages_highlight_gams.864e8c3a.chunk.js\u001b[39m\n",
      "  1.54 kB    \u001b[2mdist-scalprum/static/\u001b[22m\u001b[36mreact-syntax-highlighter_languages_highlight_n1ql.bc328c62.chunk.js\u001b[39m\n",
      "  1.53 kB    \u001b[2mdist-scalprum/static/\u001b[22m\u001b[36mreact-syntax-highlighter_languages_highlight_python.36bbe128.chunk.js\u001b[39m\n",
      "  1.53 kB    \u001b[2mdist-scalprum/static/\u001b[22m\u001b[36mreact-syntax-highlighter_languages_highlight_llvm.6d2ae809.chunk.js\u001b[39m\n",
      "  1.53 kB    \u001b[2mdist-scalprum/static/\u001b[22m\u001b[36mreact-syntax-highlighter_languages_highlight_applescript.653fc3ca.chunk.js\u001b[39m\n",
      "  1.53 kB    \u001b[2mdist-scalprum/static/\u001b[22m\u001b[36mreact-syntax-highlighter_languages_highlight_vbnet.803e04a8.chunk.js\u001b[39m\n",
      "  1.51 kB    \u001b[2mdist-scalprum/static/\u001b[22m\u001b[36mreact-syntax-highlighter_languages_highlight_lasso.ca76cb7f.chunk.js\u001b[39m\n",
      "  1.5 kB     \u001b[2mdist-scalprum/static/\u001b[22m\u001b[36mreact-syntax-highlighter_languages_highlight_mipsasm.8a812466.chunk.js\u001b[39m\n",
      "  1.49 kB    \u001b[2mdist-scalprum/static/\u001b[22m\u001b[36mreact-syntax-highlighter_languages_highlight_kotlin.82df5016.chunk.js\u001b[39m\n",
      "  1.49 kB    \u001b[2mdist-scalprum/static/\u001b[22m\u001b[36mreact-syntax-highlighter_languages_highlight_objectivec.3fa15e18.chunk.js\u001b[39m\n",
      "  1.48 kB    \u001b[2mdist-scalprum/static/\u001b[22m\u001b[36mreact-syntax-highlighter_languages_highlight_arcade.a48d1e89.chunk.js\u001b[39m\n",
      "  1.47 kB    \u001b[2mdist-scalprum/static/\u001b[22m\u001b[36mreact-syntax-highlighter_languages_highlight_coffeescript.cd7dd2d1.chunk.js\u001b[39m\n",
      "  1.45 kB    \u001b[2mdist-scalprum/static/\u001b[22m\u001b[36mreact-syntax-highlighter_languages_highlight_routeros.b2a1fbce.chunk.js\u001b[39m\n",
      "  1.45 kB    \u001b[2mdist-scalprum/static/\u001b[22m\u001b[36mreact-syntax-highlighter_languages_highlight_crystal.b28649a5.chunk.js\u001b[39m\n",
      "  1.44 kB    \u001b[2mdist-scalprum/static/\u001b[22m\u001b[36mreact-syntax-highlighter_languages_highlight_qml.4cae63c5.chunk.js\u001b[39m\n",
      "  1.4 kB     \u001b[2mdist-scalprum/static/\u001b[22m\u001b[36mreact-syntax-highlighter_languages_highlight_reasonml.55d1adfa.chunk.js\u001b[39m\n",
      "  1.34 kB    \u001b[2mdist-scalprum/static/\u001b[22m\u001b[36mreact-syntax-highlighter_languages_highlight_matlab.61d5af9f.chunk.js\u001b[39m\n",
      "  1.31 kB    \u001b[2mdist-scalprum/static/\u001b[22m\u001b[36mreact-syntax-highlighter_languages_highlight_rust.53d084a9.chunk.js\u001b[39m\n",
      "  1.24 kB    \u001b[2mdist-scalprum/static/\u001b[22m\u001b[36mreact-syntax-highlighter_languages_highlight_bash.2376f4e5.chunk.js\u001b[39m\n",
      "  1.24 kB    \u001b[2mdist-scalprum/static/\u001b[22m\u001b[36m5113.b2c9ae55.chunk.js\u001b[39m\n",
      "  1.23 kB    \u001b[2mdist-scalprum/static/\u001b[22m\u001b[36mreact-syntax-highlighter_languages_highlight_d.6873bcef.chunk.js\u001b[39m\n",
      "  1.21 kB    \u001b[2mdist-scalprum/static/\u001b[22m\u001b[36mreact-syntax-highlighter_languages_highlight_avrasm.dae3471d.chunk.js\u001b[39m\n",
      "  1.18 kB    \u001b[2mdist-scalprum/static/\u001b[22m\u001b[36mreact-syntax-highlighter_languages_highlight_aspectj.0389bec8.chunk.js\u001b[39m\n",
      "  1.17 kB    \u001b[2mdist-scalprum/static/\u001b[22m\u001b[36mreact-syntax-highlighter_languages_highlight_lua.335d54f3.chunk.js\u001b[39m\n",
      "  1.16 kB    \u001b[2mdist-scalprum/static/\u001b[22m\u001b[36mreact-syntax-highlighter_languages_highlight_oxygene.b32bd45d.chunk.js\u001b[39m\n",
      "  1.16 kB    \u001b[2mdist-scalprum/static/\u001b[22m\u001b[36mreact-syntax-highlighter_languages_highlight_delphi.7d2cb743.chunk.js\u001b[39m\n",
      "  1.16 kB    \u001b[2mdist-scalprum/static/\u001b[22m\u001b[36mreact-syntax-highlighter_languages_highlight_cmake.04210f64.chunk.js\u001b[39m\n",
      "  1.13 kB    \u001b[2mdist-scalprum/static/\u001b[22m\u001b[36mreact-syntax-highlighter_languages_highlight_htmlbars.5cfc3b1f.chunk.js\u001b[39m\n",
      "  1.13 kB    \u001b[2mdist-scalprum/static/\u001b[22m\u001b[36mreact-syntax-highlighter_languages_highlight_java.dcbe46dd.chunk.js\u001b[39m\n",
      "  1.11 kB    \u001b[2mdist-scalprum/static/\u001b[22m\u001b[36mreact-syntax-highlighter_languages_highlight_tcl.521ffce6.chunk.js\u001b[39m\n",
      "  1.09 kB    \u001b[2mdist-scalprum/static/\u001b[22m\u001b[36mreact-syntax-highlighter_languages_highlight_mercury.d24dd1a3.chunk.js\u001b[39m\n",
      "  1.09 kB    \u001b[2mdist-scalprum/static/\u001b[22m\u001b[36mreact-syntax-highlighter_languages_highlight_dart.f7329a2e.chunk.js\u001b[39m\n",
      "  1.09 kB    \u001b[2mdist-scalprum/static/\u001b[22m\u001b[36mreact-syntax-highlighter_languages_highlight_vbscript.26c9e153.chunk.js\u001b[39m\n",
      "  1.08 kB    \u001b[2mdist-scalprum/static/\u001b[22m\u001b[36mreact-syntax-highlighter_languages_highlight_handlebars.9f021567.chunk.js\u001b[39m\n",
      "  1.08 kB    \u001b[2mdist-scalprum/static/\u001b[22m\u001b[36mreact-syntax-highlighter_languages_highlight_vhdl.45b489f4.chunk.js\u001b[39m\n",
      "  1.07 kB    \u001b[2mdist-scalprum/static/\u001b[22m\u001b[36mreact-syntax-highlighter_languages_highlight_elixir.994eda00.chunk.js\u001b[39m\n",
      "  1.06 kB    \u001b[2mdist-scalprum/static/\u001b[22m\u001b[36mreact-syntax-highlighter_languages_highlight_asciidoc.83248c7c.chunk.js\u001b[39m\n",
      "  1.05 kB    \u001b[2mdist-scalprum/static/\u001b[22m\u001b[36mreact-syntax-highlighter_languages_highlight_erlang.8316cfc8.chunk.js\u001b[39m\n",
      "  1.05 kB    \u001b[2mdist-scalprum/static/\u001b[22m\u001b[36mreact-syntax-highlighter_languages_highlight_xl.8fbd89e2.chunk.js\u001b[39m\n",
      "  1.03 kB    \u001b[2mdist-scalprum/static/\u001b[22m\u001b[36mreact-syntax-highlighter_languages_highlight_django.718ebd86.chunk.js\u001b[39m\n",
      "  1.02 kB    \u001b[2mdist-scalprum/static/\u001b[22m\u001b[36mreact-syntax-highlighter_languages_highlight_basic.5ec45979.chunk.js\u001b[39m\n",
      "  1.01 kB    \u001b[2mdist-scalprum/static/\u001b[22m\u001b[36mreact-syntax-highlighter_languages_highlight_ada.f4323969.chunk.js\u001b[39m\n",
      "  1 kB       \u001b[2mdist-scalprum/static/\u001b[22m\u001b[36mreact-syntax-highlighter_languages_highlight_gradle.729f183b.chunk.js\u001b[39m\n",
      "  990 B      \u001b[2mdist-scalprum/static/\u001b[22m\u001b[36mreact-syntax-highlighter_languages_highlight_groovy.9930f037.chunk.js\u001b[39m\n",
      "  972 B      \u001b[2mdist-scalprum/static/\u001b[22m\u001b[36mreact-syntax-highlighter_languages_highlight_moonscript.bbd3b018.chunk.js\u001b[39m\n",
      "  963 B      \u001b[2mdist-scalprum/static/\u001b[22m\u001b[36mreact-syntax-highlighter_languages_highlight_zephir.90888695.chunk.js\u001b[39m\n",
      "  951 B      \u001b[2mdist-scalprum/static/\u001b[22m\u001b[36mreact-syntax-highlighter_languages_highlight_tp.81c9329c.chunk.js\u001b[39m\n",
      "  949 B      \u001b[2mdist-scalprum/static/\u001b[22m\u001b[36mreact-syntax-highlighter_languages_highlight_axapta.c1aa6e91.chunk.js\u001b[39m\n",
      "  926 B      \u001b[2mdist-scalprum/static/\u001b[22m\u001b[36mreact-syntax-highlighter_languages_highlight_xml.11012e06.chunk.js\u001b[39m\n",
      "  918 B      \u001b[2mdist-scalprum/static/\u001b[22m\u001b[36mreact-syntax-highlighter_languages_highlight_markdown.43848504.chunk.js\u001b[39m\n",
      "  900 B      \u001b[2mdist-scalprum/static/\u001b[22m\u001b[36mreact-syntax-highlighter_languages_highlight_purebasic.2df96607.chunk.js\u001b[39m\n",
      "  897 B      \u001b[2mdist-scalprum/static/\u001b[22m\u001b[36mreact-syntax-highlighter_languages_highlight_yaml.26c4b2eb.chunk.js\u001b[39m\n",
      "  891 B      \u001b[2mdist-scalprum/static/\u001b[22m\u001b[36mreact-syntax-highlighter_languages_highlight_pf.f9ad9f0f.chunk.js\u001b[39m\n",
      "  888 B      \u001b[2mdist-scalprum/static/\u001b[22m\u001b[36mreact-syntax-highlighter_languages_highlight_angelscript.d07bfcc6.chunk.js\u001b[39m\n",
      "  877 B      \u001b[2mdist-scalprum/static/\u001b[22m\u001b[36mreact-syntax-highlighter_languages_highlight_nim.3cf02c08.chunk.js\u001b[39m\n",
      "  876 B      \u001b[2mdist-scalprum/static/\u001b[22m\u001b[36mreact-syntax-highlighter_languages_highlight_haxe.4fa97a48.chunk.js\u001b[39m\n",
      "  863 B      \u001b[2mdist-scalprum/static/\u001b[22m\u001b[36mreact-syntax-highlighter_languages_highlight_q.f391837f.chunk.js\u001b[39m\n",
      "  862 B      \u001b[2mdist-scalprum/static/\u001b[22m\u001b[36mreact-syntax-highlighter_languages_highlight_openscad.464a6f92.chunk.js\u001b[39m\n",
      "  861 B      \u001b[2mdist-scalprum/static/\u001b[22m\u001b[36mreact-syntax-highlighter_languages_highlight_scilab.640e43e7.chunk.js\u001b[39m\n",
      "  851 B      \u001b[2mdist-scalprum/static/\u001b[22m\u001b[36mreact-syntax-highlighter_languages_highlight_monkey.1769d27b.chunk.js\u001b[39m\n",
      "  847 B      \u001b[2mdist-scalprum/static/\u001b[22m\u001b[36mreact-syntax-highlighter_languages_highlight_rib.86643d3f.chunk.js\u001b[39m\n",
      "  846 B      \u001b[2mdist-scalprum/static/\u001b[22m\u001b[36mreact-syntax-highlighter_languages_highlight_haskell.4cb11aa1.chunk.js\u001b[39m\n",
      "  843 B      \u001b[2mdist-scalprum/static/\u001b[22m\u001b[36mreact-syntax-highlighter_languages_highlight_dos.68fba023.chunk.js\u001b[39m\n",
      "  830 B      \u001b[2mdist-scalprum/static/\u001b[22m\u001b[36mreact-syntax-highlighter_languages_highlight_cos.d478ddcb.chunk.js\u001b[39m\n",
      "  827 B      \u001b[2mdist-scalprum/static/\u001b[22m\u001b[36mreact-syntax-highlighter_languages_highlight_crmsh.cb12531b.chunk.js\u001b[39m\n",
      "  827 B      \u001b[2mdist-scalprum/static/\u001b[22m\u001b[36mreact-syntax-highlighter_languages_highlight_ocaml.ddbcf116.chunk.js\u001b[39m\n",
      "  813 B      \u001b[2mdist-scalprum/static/\u001b[22m\u001b[36mreact-syntax-highlighter_languages_highlight_twig.9faa7637.chunk.js\u001b[39m\n",
      "  812 B      \u001b[2mdist-scalprum/static/\u001b[22m\u001b[36mreact-syntax-highlighter_languages_highlight_actionscript.d6c717b1.chunk.js\u001b[39m\n",
      "  806 B      \u001b[2mdist-scalprum/static/\u001b[22m\u001b[36mreact-syntax-highlighter_languages_highlight_scala.17a32a8a.chunk.js\u001b[39m\n",
      "  797 B      \u001b[2mdist-scalprum/static/\u001b[22m\u001b[36mreact-syntax-highlighter_languages_highlight_fsharp.821fe482.chunk.js\u001b[39m\n",
      "  783 B      \u001b[2mdist-scalprum/static/\u001b[22m\u001b[36mreact-syntax-highlighter_languages_highlight_sml.9cc421b7.chunk.js\u001b[39m\n",
      "  781 B      \u001b[2mdist-scalprum/static/\u001b[22m\u001b[36mreact-syntax-highlighter_languages_highlight_ceylon.86beec3e.chunk.js\u001b[39m\n",
      "  768 B      \u001b[2mdist-scalprum/static/\u001b[22m\u001b[36mreact-syntax-highlighter_languages_highlight_nginx.8719586c.chunk.js\u001b[39m\n",
      "  753 B      \u001b[2mdist-scalprum/static/\u001b[22m\u001b[36mreact-syntax-highlighter_languages_highlight_dts.3953080c.chunk.js\u001b[39m\n",
      "  752 B      \u001b[2mdist-scalprum/static/\u001b[22m\u001b[36mreact-syntax-highlighter_languages_highlight_rsl.a0949c68.chunk.js\u001b[39m\n",
      "  736 B      \u001b[2mdist-scalprum/static/\u001b[22m\u001b[36mreact-syntax-highlighter_languages_highlight_lisp.98947d94.chunk.js\u001b[39m\n",
      "  718 B      \u001b[2mdist-scalprum/static/\u001b[22m\u001b[36mreact-syntax-highlighter_languages_highlight_makefile.56870f25.chunk.js\u001b[39m\n",
      "  712 B      \u001b[2mdist-scalprum/static/\u001b[22m\u001b[36mreact-syntax-highlighter_languages_highlight_ini.946fdaa3.chunk.js\u001b[39m\n",
      "  699 B      \u001b[2mdist-scalprum/static/\u001b[22m\u001b[36mreact-syntax-highlighter_languages_highlight_go.0c8ec142.chunk.js\u001b[39m\n",
      "  694 B      \u001b[2mdist-scalprum/static/\u001b[22m\u001b[36mreact-syntax-highlighter_languages_highlight_vala.cc31ee5c.chunk.js\u001b[39m\n",
      "  685 B      \u001b[2mdist-scalprum/static/\u001b[22m\u001b[36mreact-syntax-highlighter_languages_highlight_gcode.0b72ec93.chunk.js\u001b[39m\n",
      "  682 B      \u001b[2mdist-scalprum/static/\u001b[22m\u001b[36mreact-syntax-highlighter_languages_highlight_dns.96fd7dc9.chunk.js\u001b[39m\n",
      "  681 B      \u001b[2mdist-scalprum/static/\u001b[22m\u001b[36mreact-syntax-highlighter_languages_highlight_cal.528e1f0b.chunk.js\u001b[39m\n",
      "  678 B      \u001b[2mdist-scalprum/static/\u001b[22m\u001b[36mreact-syntax-highlighter_languages_highlight_pony.3ef46db3.chunk.js\u001b[39m\n",
      "  671 B      \u001b[2mdist-scalprum/static/\u001b[22m\u001b[36mreact-syntax-highlighter_languages_highlight_autohotkey.ef861f41.chunk.js\u001b[39m\n",
      "  664 B      \u001b[2mdist-scalprum/static/\u001b[22m\u001b[36mreact-syntax-highlighter_languages_highlight_smali.2122b171.chunk.js\u001b[39m\n",
      "  656 B      \u001b[2mdist-scalprum/static/\u001b[22m\u001b[36mreact-syntax-highlighter_languages_highlight_elm.23ef2626.chunk.js\u001b[39m\n",
      "  634 B      \u001b[2mdist-scalprum/static/\u001b[22m\u001b[36mreact-syntax-highlighter_languages_highlight_jbossCli.aa581304.chunk.js\u001b[39m\n",
      "  629 B      \u001b[2mdist-scalprum/static/\u001b[22m\u001b[36mreact-syntax-highlighter_languages_highlight_erlangRepl.3e40ef1d.chunk.js\u001b[39m\n",
      "  610 B      \u001b[2mdist-scalprum/static/\u001b[22m\u001b[36mexposed-PluginRoot.9395b1ea.chunk.js\u001b[39m\n",
      "  609 B      \u001b[2mdist-scalprum/static/\u001b[22m\u001b[36mreact-syntax-highlighter_languages_highlight_abnf.4de38bb8.chunk.js\u001b[39m\n",
      "  605 B      \u001b[2mdist-scalprum/static/\u001b[22m\u001b[36mreact-syntax-highlighter_languages_highlight_apache.96c736d8.chunk.js\u001b[39m\n",
      "  602 B      \u001b[2mdist-scalprum/static/\u001b[22m\u001b[36mreact-syntax-highlighter_languages_highlight_haml.1292eba8.chunk.js\u001b[39m\n",
      "  597 B      \u001b[2mdist-scalprum/static/\u001b[22m\u001b[36mreact-syntax-highlighter_languages_highlight_capnproto.8803d5f9.chunk.js\u001b[39m\n",
      "  595 B      \u001b[2mdist-scalprum/static/\u001b[22m\u001b[36mreact-syntax-highlighter_languages_highlight_http.49103ff9.chunk.js\u001b[39m\n",
      "  564 B      \u001b[2mdist-scalprum/static/\u001b[22m\u001b[36mreact-syntax-highlighter_languages_highlight_protobuf.05e7269e.chunk.js\u001b[39m\n",
      "  563 B      \u001b[2mdist-scalprum/static/\u001b[22m\u001b[36mreact-syntax-highlighter_languages_highlight_mizar.4a4087e5.chunk.js\u001b[39m\n",
      "  552 B      \u001b[2mdist-scalprum/static/\u001b[22m\u001b[36m1559.a600bb98.chunk.js\u001b[39m\n",
      "  552 B      \u001b[2mdist-scalprum/static/\u001b[22m\u001b[36m3940.2dd84043.chunk.js\u001b[39m\n",
      "  549 B      \u001b[2mdist-scalprum/static/\u001b[22m\u001b[36mreact-syntax-highlighter_languages_highlight_accesslog.0351c0aa.chunk.js\u001b[39m\n",
      "  541 B      \u001b[2mdist-scalprum/static/\u001b[22m\u001b[36mreact-syntax-highlighter_languages_highlight_nix.003a703d.chunk.js\u001b[39m\n",
      "  534 B      \u001b[2mdist-scalprum/static/\u001b[22m\u001b[36mreact-syntax-highlighter_languages_highlight_thrift.8b8c8c92.chunk.js\u001b[39m\n",
      "  530 B      \u001b[2mdist-scalprum/static/\u001b[22m\u001b[36mreact-syntax-highlighter_languages_highlight_inform7.1a7c993a.chunk.js\u001b[39m\n",
      "  516 B      \u001b[2mdist-scalprum/static/\u001b[22m\u001b[36mreact-syntax-highlighter_languages_highlight_smalltalk.98a3eab8.chunk.js\u001b[39m\n",
      "  512 B      \u001b[2mdist-scalprum/static/\u001b[22m\u001b[36mreact-syntax-highlighter_languages_highlight_clean.13a6382d.chunk.js\u001b[39m\n",
      "  510 B      \u001b[2mdist-scalprum/static/\u001b[22m\u001b[36mreact-syntax-highlighter_languages_highlight_flix.b2dc761f.chunk.js\u001b[39m\n",
      "  508 B      \u001b[2mdist-scalprum/static/\u001b[22m\u001b[36mreact-syntax-highlighter_languages_highlight_golo.590eb9b6.chunk.js\u001b[39m\n",
      "  507 B      \u001b[2mdist-scalprum/static/\u001b[22m\u001b[36mreact-syntax-highlighter_languages_highlight_step21.d031bef7.chunk.js\u001b[39m\n",
      "  502 B      \u001b[2mdist-scalprum/static/\u001b[22m\u001b[36mreact-syntax-highlighter_languages_highlight_roboconf.d7a97944.chunk.js\u001b[39m\n",
      "  498 B      \u001b[2mdist-scalprum/static/\u001b[22m\u001b[36mreact-syntax-highlighter_languages_highlight_awk.d3fa8606.chunk.js\u001b[39m\n",
      "  497 B      \u001b[2mdist-scalprum/static/\u001b[22m\u001b[36mreact-syntax-highlighter_languages_highlight_prolog.cc833b18.chunk.js\u001b[39m\n",
      "  489 B      \u001b[2mdist-scalprum/static/\u001b[22m\u001b[36mreact-syntax-highlighter_languages_highlight_json.b761907d.chunk.js\u001b[39m\n",
      "  487 B      \u001b[2mdist-scalprum/static/\u001b[22m\u001b[36mreact-syntax-highlighter_languages_highlight_properties.fb02ae0d.chunk.js\u001b[39m\n",
      "  467 B      \u001b[2mdist-scalprum/static/\u001b[22m\u001b[36mreact-syntax-highlighter_languages_highlight_parser3.4528e58d.chunk.js\u001b[39m\n",
      "  461 B      \u001b[2mdist-scalprum/static/\u001b[22m\u001b[36mreact-syntax-highlighter_languages_highlight_gherkin.cabec247.chunk.js\u001b[39m\n",
      "  440 B      \u001b[2mdist-scalprum/static/\u001b[22m\u001b[36mreact-syntax-highlighter_languages_highlight_dockerfile.5fb69b4f.chunk.js\u001b[39m\n",
      "  431 B      \u001b[2mdist-scalprum/static/\u001b[22m\u001b[36mreact-syntax-highlighter_languages_highlight_profile.56fe526b.chunk.js\u001b[39m\n",
      "  427 B      \u001b[2mdist-scalprum/static/\u001b[22m\u001b[36mreact-syntax-highlighter_languages_highlight_dust.32ec3e7a.chunk.js\u001b[39m\n",
      "  426 B      \u001b[2mdist-scalprum/static/\u001b[22m\u001b[36mreact-syntax-highlighter_languages_highlight_subunit.8c1c126f.chunk.js\u001b[39m\n",
      "  421 B      \u001b[2mdist-scalprum/static/\u001b[22m\u001b[36mreact-syntax-highlighter_languages_highlight_dsconfig.2b49f043.chunk.js\u001b[39m\n",
      "  421 B      \u001b[2mdist-scalprum/static/\u001b[22m\u001b[36mreact-syntax-highlighter_languages_highlight_csp.dbd1f366.chunk.js\u001b[39m\n",
      "  409 B      \u001b[2mdist-scalprum/static/\u001b[22m\u001b[36mreact-syntax-highlighter_languages_highlight_diff.12f0fc04.chunk.js\u001b[39m\n",
      "  405 B      \u001b[2mdist-scalprum/static/\u001b[22m\u001b[36mreact-syntax-highlighter_languages_highlight_ebnf.6d7f05e2.chunk.js\u001b[39m\n",
      "  396 B      \u001b[2mdist-scalprum/static/\u001b[22m\u001b[36mreact-syntax-highlighter_languages_highlight_tap.c5badb33.chunk.js\u001b[39m\n",
      "  378 B      \u001b[2mdist-scalprum/static/\u001b[22m\u001b[36mreact-syntax-highlighter_languages_highlight_phpTemplate.4ec5d6a7.chunk.js\u001b[39m\n",
      "  370 B      \u001b[2mdist-scalprum/static/\u001b[22m\u001b[36mreact-syntax-highlighter_languages_highlight_brainfuck.fd16b01f.chunk.js\u001b[39m\n",
      "  369 B      \u001b[2mdist-scalprum/static/\u001b[22m\u001b[36mreact-syntax-highlighter_languages_highlight_taggerscript.c806a6db.chunk.js\u001b[39m\n",
      "  356 B      \u001b[2mdist-scalprum/static/\u001b[22m\u001b[36mreact-syntax-highlighter_languages_highlight_leaf.2b5a65e2.chunk.js\u001b[39m\n",
      "  343 B      \u001b[2mdist-scalprum/static/\u001b[22m\u001b[36mreact-syntax-highlighter_languages_highlight_fix.a13982ad.chunk.js\u001b[39m\n",
      "  336 B      \u001b[2mdist-scalprum/static/\u001b[22m\u001b[36mreact-syntax-highlighter_languages_highlight_bnf.ad825f51.chunk.js\u001b[39m\n",
      "  335 B      \u001b[2mdist-scalprum/static/\u001b[22m\u001b[36mreact-syntax-highlighter_languages_highlight_mojolicious.bd3df86e.chunk.js\u001b[39m\n",
      "  334 B      \u001b[2mdist-scalprum/static/\u001b[22m\u001b[36mreact-syntax-highlighter_languages_highlight_ldif.8e1c25f6.chunk.js\u001b[39m\n",
      "  320 B      \u001b[2mdist-scalprum/static/\u001b[22m\u001b[36mreact-syntax-highlighter_languages_highlight_shell.b3285544.chunk.js\u001b[39m\n",
      "  310 B      \u001b[2mdist-scalprum/static/\u001b[22m\u001b[36mreact-syntax-highlighter_languages_highlight_nodeRepl.656e136a.chunk.js\u001b[39m\n",
      "  310 B      \u001b[2mdist-scalprum/static/\u001b[22m\u001b[36mreact-syntax-highlighter_languages_highlight_juliaRepl.a50862cf.chunk.js\u001b[39m\n",
      "  308 B      \u001b[2mdist-scalprum/static/\u001b[22m\u001b[36mreact-syntax-highlighter_languages_highlight_pythonRepl.d9448e10.chunk.js\u001b[39m\n",
      "  299 B      \u001b[2mdist-scalprum/static/\u001b[22m\u001b[36mreact-syntax-highlighter_languages_highlight_erb.3ec0b4a6.chunk.js\u001b[39m\n",
      "  293 B      \u001b[2mdist-scalprum/static/\u001b[22m\u001b[36mreact-syntax-highlighter_languages_highlight_clojureRepl.0319cd50.chunk.js\u001b[39m\n",
      "  274 B      \u001b[2mdist-scalprum/static/\u001b[22m\u001b[36mreact-syntax-highlighter_languages_highlight_vbscriptHtml.bc22df37.chunk.js\u001b[39m\n",
      "  250 B      \u001b[2mdist-scalprum/static/\u001b[22m\u001b[36mreact-syntax-highlighter_languages_highlight_plaintext.22277962.chunk.js\u001b[39m\n"
     ]
    },
    {
     "name": "stderr",
     "output_type": "stream",
     "text": [
      "\u001b[32mSaving self-contained config schema in \u001b[36m/Users/tcoufal/Workspace/demo/plugins/backstage-plugin-demo/dist-scalprum/configSchema.json\u001b[39m\u001b[32m\u001b[39m\n"
     ]
    },
    {
     "name": "stdout",
     "output_type": "stream",
     "text": [
      "\u001b[2K\u001b[1GDone in 14.13s.\n",
      "\u001b[2K\u001b[1G\u001b[1myarn publish v1.22.22\u001b[22m\n",
      "\u001b[2K\u001b[1G\u001b[2m[1/4]\u001b[22m Bumping version...\n",
      "\u001b[2K\u001b[1G\u001b[34minfo\u001b[39m Current version: 0.1.0\n",
      "\u001b[2K\u001b[1G\u001b[2m[2/4]\u001b[22m Logging in...\n",
      "\u001b[2K\u001b[1G\u001b[2m[3/4]\u001b[22m Publishing...\n",
      "\u001b[2K\u001b[1G\u001b[2m$ backstage-cli package prepack\u001b[22m\n",
      "\u001b[2K\u001b[1G\u001b[2m$ backstage-cli package postpack\u001b[22m\n",
      "\u001b[2K\u001b[1G\u001b[32msuccess\u001b[39m Published.\n",
      "\u001b[2K\u001b[1G\u001b[2m[4/4]\u001b[22m Revoking token...\n",
      "\u001b[2K\u001b[1G\u001b[34minfo\u001b[39m Not revoking login token, specified via config file.\n",
      "\u001b[2K\u001b[1GDone in 1.12s.\n"
     ]
    }
   ],
   "source": [
    "%%sh\n",
    "cd ../plugins/backstage-plugin-demo\n",
    "\n",
    "yarn tsc\n",
    "yarn build\n",
    "yarn export-dynamic\n",
    "yarn publish"
   ]
  },
  {
   "cell_type": "markdown",
   "metadata": {},
   "source": [
    "Review published package `@rhsummit2024/backstage-plugin-demo`"
   ]
  },
  {
   "cell_type": "code",
   "execution_count": 20,
   "metadata": {},
   "outputs": [
    {
     "name": "stdout",
     "output_type": "stream",
     "text": [
      "\n",
      "\u001b[4m\u001b[1m\u001b[32m@rhsummit2024/backstage-plugin-demo\u001b[39m@\u001b[32m0.1.0\u001b[39m\u001b[22m\u001b[24m | \u001b[32mApache-2.0\u001b[39m | deps: \u001b[36m8\u001b[39m | versions: \u001b[33m1\u001b[39m\n",
      "Welcome to the demo plugin!\n",
      "\n",
      "dist\n",
      ".tarball: \u001b[36mhttp://verdaccio-verdaccio.apps-crc.testing/@rhsummit2024/backstage-plugin-demo/-/backstage-plugin-demo-0.1.0.tgz\u001b[39m\n",
      ".shasum: \u001b[33m2bf234ebdd337d2f1d9c7b2f18fa1a6dfbf9ce32\u001b[39m\n",
      ".integrity: \u001b[33msha512-EEhWeL7pj0CZbQOcrFde6SkTyh5S3ICCRi9JW//opV28Ii3ZBMPNbMe19j5V0D50BZ7Pw7Oao70H3CnQ+/52uw==\u001b[39m\n",
      "\n",
      "dependencies:\n",
      "\u001b[33m@backstage/core-components\u001b[39m: ^0.14.4\n",
      "\u001b[33m@backstage/core-plugin-api\u001b[39m: ^1.9.2\n",
      "\u001b[33m@backstage/plugin-catalog-react\u001b[39m: ^1.11.3\n",
      "\u001b[33m@backstage/theme\u001b[39m: ^0.5.3\n",
      "\u001b[33m@material-ui/core\u001b[39m: ^4.12.2\n",
      "\u001b[33m@material-ui/icons\u001b[39m: 4.11.3\n",
      "\u001b[33m@material-ui/lab\u001b[39m: 4.0.0-alpha.61\n",
      "\u001b[33mreact-use\u001b[39m: ^17.2.4\n",
      "\n",
      "dist-tags:\n",
      "\u001b[1m\u001b[32mlatest\u001b[39m\u001b[22m: 0.1.0  \n",
      "\n",
      "published \u001b[33mjust now\u001b[39m\n"
     ]
    }
   ],
   "source": [
    "!npm info @rhsummit2024/backstage-plugin-demo"
   ]
  },
  {
   "cell_type": "markdown",
   "metadata": {},
   "source": [
    "# ☁️ Deploy\n",
    "\n",
    "Now let's update our Backstage instance with the new Plugin\n",
    "\n",
    "| Helm values snippet | [values.yaml](./values.yaml)  |\n",
    "| --- | --- |"
   ]
  },
  {
   "cell_type": "code",
   "execution_count": 21,
   "metadata": {},
   "outputs": [
    {
     "name": "stdout",
     "output_type": "stream",
     "text": [
      "Release \"backstage\" has been upgraded. Happy Helming!\n",
      "NAME: backstage\n",
      "LAST DEPLOYED: Fri May  3 16:29:30 2024\n",
      "NAMESPACE: backstage\n",
      "STATUS: deployed\n",
      "REVISION: 15\n"
     ]
    }
   ],
   "source": [
    "%%bash\n",
    "\n",
    "INTEGRITY=$(npm info @rhsummit2024/backstage-plugin-demo --json | jq -r '.dist.integrity')\n",
    "helm upgrade  -i backstage --reuse-values -f values.yaml --set global.dynamic.plugins[0].integrity=$INTEGRITY ../00_setup/developer-hub-1.1.0.tgz"
   ]
  },
  {
   "cell_type": "markdown",
   "metadata": {},
   "source": [
    "# 🧹 Optional: Cleanup\n",
    "\n",
    "Let's undeploy and unpublish the plugin"
   ]
  },
  {
   "cell_type": "code",
   "execution_count": 22,
   "metadata": {},
   "outputs": [
    {
     "name": "stdout",
     "output_type": "stream",
     "text": [
      "Release \"backstage\" has been upgraded. Happy Helming!\n",
      "NAME: backstage\n",
      "LAST DEPLOYED: Fri May  3 16:32:17 2024\n",
      "NAMESPACE: backstage\n",
      "STATUS: deployed\n",
      "REVISION: 16\n"
     ]
    },
    {
     "name": "stderr",
     "output_type": "stream",
     "text": [
      "npm WARN using --force Recommended protections disabled.\n"
     ]
    },
    {
     "name": "stdout",
     "output_type": "stream",
     "text": [
      "- @rhsummit2024/backstage-plugin-demo\n"
     ]
    }
   ],
   "source": [
    "%%bash\n",
    "\n",
    "\n",
    "helm upgrade  -i backstage --reuse-values -f values.yaml --set global.dynamic.plugins=null ../00_setup/developer-hub-1.1.0.tgz\n",
    "npm unpublish --force @rhsummit2024/backstage-plugin-demo || true\n",
    "rm -rf ../plugins/backstage-plugin-demo"
   ]
  }
 ],
 "metadata": {
  "kernelspec": {
   "display_name": ".venv",
   "language": "python",
   "name": "python3"
  },
  "language_info": {
   "codemirror_mode": {
    "name": "ipython",
    "version": 3
   },
   "file_extension": ".py",
   "mimetype": "text/x-python",
   "name": "python",
   "nbconvert_exporter": "python",
   "pygments_lexer": "ipython3",
   "version": "3.10.9"
  },
  "polyglot_notebook": {
   "kernelInfo": {
    "defaultKernelName": "csharp",
    "items": [
     {
      "aliases": [],
      "name": "csharp"
     }
    ]
   }
  }
 },
 "nbformat": 4,
 "nbformat_minor": 2
}
