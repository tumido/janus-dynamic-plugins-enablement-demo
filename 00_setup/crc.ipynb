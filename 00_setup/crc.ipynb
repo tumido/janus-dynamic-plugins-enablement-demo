{
 "cells": [
  {
   "cell_type": "markdown",
   "metadata": {},
   "source": [
    "# Setup using OpenShift Local\n",
    "\n",
    "1. Install OpenShift Local\n",
    "2. Setup OpenShift Local"
   ]
  },
  {
   "cell_type": "code",
   "execution_count": null,
   "metadata": {
    "vscode": {
     "languageId": "plaintext"
    }
   },
   "outputs": [],
   "source": [
    "%%sh\n",
    "\n",
    "crc setup\n",
    "crc start"
   ]
  },
  {
   "cell_type": "markdown",
   "metadata": {},
   "source": [
    "Wait until OpenShift Local is ready and prepare the environment"
   ]
  },
  {
   "cell_type": "code",
   "execution_count": null,
   "metadata": {
    "vscode": {
     "languageId": "plaintext"
    }
   },
   "outputs": [],
   "source": [
    "%%sh\n",
    "\n",
    "eval $(crc oc-env)\n",
    "oc login -u kubeadmin -p $(crc console -o json | jq .clusterConfig.adminCredentials.password) https://api.crc.testing:6443\n",
    "podman login -u kubeadmin -p $(oc whoami -t) default-route-openshift-image-registry.apps-crc.testing --tls-verify=false"
   ]
  },
  {
   "cell_type": "markdown",
   "metadata": {},
   "source": [
    "For MacOS users:\n",
    "\n",
    "In case you can't push to local OpenShift registry, run the following:"
   ]
  },
  {
   "cell_type": "code",
   "execution_count": null,
   "metadata": {
    "vscode": {
     "languageId": "plaintext"
    }
   },
   "outputs": [],
   "source": [
    "podman machine ssh -- 'echo \"192.168.127.254 default-route-openshift-image-registry.apps-crc.testing\" | sudo tee -a  /etc/hosts'"
   ]
  },
  {
   "cell_type": "markdown",
   "metadata": {},
   "source": [
    "| OpenShift Local Console | https://console-openshift-console.apps-crc.testing/ |\n",
    "| -- | -- |"
   ]
  },
  {
   "cell_type": "markdown",
   "metadata": {},
   "source": [
    "## NPM Registry"
   ]
  },
  {
   "cell_type": "code",
   "execution_count": null,
   "metadata": {
    "vscode": {
     "languageId": "plaintext"
    }
   },
   "outputs": [],
   "source": [
    "%%sh\n",
    "\n",
    "oc new-project verdaccio\n",
    "\n",
    "podman pull verdaccio/verdaccio\n",
    "podman tag docker.io/verdaccio/verdaccio:latest default-route-openshift-image-registry.apps-crc.testing/verdaccio/verdaccio:latest\n",
    "podman push --tls-verify=false default-route-openshift-image-registry.apps-crc.testing/verdaccio/verdaccio:latest\n",
    "oc set image-lookup verdaccio\n",
    "\n",
    "helm repo add verdaccio https://charts.verdaccio.org\n",
    "helm upgrade -i npm verdaccio/verdaccio -f verdaccio.yaml"
   ]
  },
  {
   "cell_type": "markdown",
   "metadata": {},
   "source": [
    "Wait for the registry to deploy. Next setup local NPM config:"
   ]
  },
  {
   "cell_type": "code",
   "execution_count": null,
   "metadata": {
    "vscode": {
     "languageId": "plaintext"
    }
   },
   "outputs": [],
   "source": [
    "%%sh\n",
    "\n",
    "npm set registry http://verdaccio-verdaccio.apps-crc.testing/\n",
    "npm adduser --registry http://verdaccio-verdaccio.apps-crc.testing/"
   ]
  },
  {
   "cell_type": "markdown",
   "metadata": {},
   "source": [
    "| NPM registry | http://verdaccio-verdaccio.apps-crc.testing/ |\n",
    "| -- | -- |"
   ]
  },
  {
   "cell_type": "markdown",
   "metadata": {},
   "source": [
    "## Backstage\n",
    "\n",
    "Let's deploy Backstage from Janus IDP"
   ]
  },
  {
   "cell_type": "code",
   "execution_count": null,
   "metadata": {
    "vscode": {
     "languageId": "plaintext"
    }
   },
   "outputs": [],
   "source": [
    "%%sh\n",
    "\n",
    "oc new-project backstage\n",
    "\n",
    "# podman pull verdaccio/verdaccio\n",
    "# podman tag docker.io/verdaccio/verdaccio:latest default-route-openshift-image-registry.apps-crc.testing/verdaccio/verdaccio:latest\n",
    "podman push --tls-verify=false default-route-openshift-image-registry.apps-crc.testing/backstage/backstage:latest\n",
    "oc set image-lookup backstage\n",
    "\n",
    "oc create secret generic dynamic-plugins-npmrc --from-file ~/.npmrc\n",
    "\n",
    "helm repo add helm repo add openshift-helm-charts https://charts.openshift.io\n",
    "helm upgrade -i backstage openshift-helm-charts/redhat-developer-hub --version 1.1.0 -f backstage.yaml"
   ]
  },
  {
   "cell_type": "markdown",
   "metadata": {},
   "source": [
    "| Backstage | https://backstage-developer-hub-backstage.apps-crc.testing/ |\n",
    "| -- | -- |\n",
    "\n",
    "If you want to run the demo fully offline later, run through all `yarn add` steps in individual demos (to cache the NPM packages from NPMJS registry). Additionally you will need the `backstage` chart locally as well. Pull it via:"
   ]
  },
  {
   "cell_type": "markdown",
   "metadata": {},
   "source": [
    "!helm pull openshift-helm-charts/redhat-developer-hub --version 1.1.0"
   ]
  }
 ],
 "metadata": {
  "language_info": {
   "name": "python"
  }
 },
 "nbformat": 4,
 "nbformat_minor": 2
}
