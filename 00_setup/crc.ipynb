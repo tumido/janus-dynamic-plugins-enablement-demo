{
 "cells": [
  {
   "cell_type": "markdown",
   "metadata": {},
   "source": [
    "# Setup using OpenShift Local\n",
    "\n",
    "1. Install OpenShift Local\n",
    "2. Setup OpenShift Local"
   ]
  },
  {
   "cell_type": "code",
   "execution_count": null,
   "metadata": {},
   "outputs": [],
   "source": [
    "%%sh\n",
    "\n",
    "crc setup\n",
    "crc start"
   ]
  },
  {
   "cell_type": "markdown",
   "metadata": {},
   "source": [
    "Wait until OpenShift Local is ready and prepare the environment"
   ]
  },
  {
   "cell_type": "code",
   "execution_count": null,
   "metadata": {},
   "outputs": [],
   "source": [
    "%%sh\n",
    "\n",
    "eval $(crc oc-env)\n",
    "oc login -u kubeadmin -p $(crc console -o json | jq .clusterConfig.adminCredentials.password) https://api.crc.testing:6443\n",
    "podman login -u kubeadmin -p $(oc whoami -t) default-route-openshift-image-registry.apps-crc.testing --tls-verify=false"
   ]
  },
  {
   "cell_type": "markdown",
   "metadata": {},
   "source": [
    "For MacOS users:\n",
    "\n",
    "In case you can't push to local OpenShift registry, run the following:"
   ]
  },
  {
   "cell_type": "code",
   "execution_count": null,
   "metadata": {},
   "outputs": [],
   "source": [
    "%%sh\n",
    "\n",
    "if [  $(uname -m) == \"arm64\" ]; then\n",
    "    podman machine ssh -- 'echo \"192.168.127.254 default-route-openshift-image-registry.apps-crc.testing\" | sudo tee -a  /etc/hosts'\n",
    "fi"
   ]
  },
  {
   "cell_type": "markdown",
   "metadata": {},
   "source": [
    "| OpenShift Local Console | https://console-openshift-console.apps-crc.testing/ |\n",
    "| -- | -- |"
   ]
  },
  {
   "cell_type": "markdown",
   "metadata": {},
   "source": [
    "## NPM Registry"
   ]
  },
  {
   "cell_type": "code",
   "execution_count": null,
   "metadata": {},
   "outputs": [],
   "source": [
    "%%sh\n",
    "\n",
    "oc new-project verdaccio\n",
    "\n",
    "podman pull verdaccio/verdaccio\n",
    "podman tag docker.io/verdaccio/verdaccio:latest default-route-openshift-image-registry.apps-crc.testing/verdaccio/verdaccio:latest\n",
    "podman push --tls-verify=false default-route-openshift-image-registry.apps-crc.testing/verdaccio/verdaccio:latest\n",
    "oc set image-lookup verdaccio\n",
    "\n",
    "helm repo add verdaccio https://charts.verdaccio.org\n",
    "helm upgrade -i npm verdaccio/verdaccio -f verdaccio.yaml"
   ]
  },
  {
   "cell_type": "markdown",
   "metadata": {},
   "source": [
    "Wait for the registry to deploy. Next setup local NPM config. Verdaccio has a remote user creation enabled, so you can easily create a new registry user via `npm adduser`. This will also populate credentials in the local `~/.npmrc` file."
   ]
  },
  {
   "cell_type": "code",
   "execution_count": null,
   "metadata": {},
   "outputs": [],
   "source": [
    "%%sh\n",
    "\n",
    "npm set registry http://verdaccio-verdaccio.apps-crc.testing/\n",
    "npm adduser --registry http://verdaccio-verdaccio.apps-crc.testing/"
   ]
  },
  {
   "cell_type": "markdown",
   "metadata": {},
   "source": [
    "| NPM registry | http://verdaccio-verdaccio.apps-crc.testing/ |\n",
    "| -- | -- |"
   ]
  },
  {
   "cell_type": "markdown",
   "metadata": {},
   "source": [
    "## Backstage\n",
    "\n",
    "Let's deploy Backstage from Janus IDP. If you're running this on ARM, you can use the `quay.io/tcoufal/backstage-showcase:arm` build or rebuild it for your platform."
   ]
  },
  {
   "cell_type": "code",
   "execution_count": null,
   "metadata": {},
   "outputs": [],
   "source": [
    "%%sh\n",
    "\n",
    "oc new-project backstage\n",
    "\n",
    "if [  $(uname -m) == \"arm64\" ]; then\n",
    "    podman pull quay.io/tcoufal/backstage-showcase:arm\n",
    "    podman tag quay.io/tcoufal/backstage-showcase:arm default-route-openshift-image-registry.apps-crc.testing/backstage/backstage:latest\n",
    "else\n",
    "    podman pull quay.io/janus-idp/backstage-showcase\n",
    "    podman tag quay.io/janus-idp/backstage-showcase:latest default-route-openshift-image-registry.apps-crc.testing/backstage/backstage:latest\n",
    "fi\n",
    "\n",
    "podman push --tls-verify=false default-route-openshift-image-registry.apps-crc.testing/backstage/backstage:latest\n",
    "oc set image-lookup backstage\n",
    "\n",
    "oc create secret generic dynamic-plugins-npmrc --from-file ~/.npmrc\n",
    "\n",
    "helm repo add openshift-helm-charts https://charts.openshift.io"
   ]
  },
  {
   "cell_type": "code",
   "execution_count": 1,
   "metadata": {},
   "outputs": [
    {
     "name": "stdout",
     "output_type": "stream",
     "text": [
      "Release \"backstage\" does not exist. Installing it now.\n",
      "NAME: backstage\n",
      "LAST DEPLOYED: Wed May  8 11:39:56 2024\n",
      "NAMESPACE: backstage\n",
      "STATUS: deployed\n",
      "REVISION: 1\n"
     ]
    }
   ],
   "source": [
    "!helm upgrade -i backstage openshift-helm-charts/redhat-developer-hub --version 1.1.0 -f backstage.yaml"
   ]
  },
  {
   "cell_type": "markdown",
   "metadata": {},
   "source": [
    "| Backstage | https://backstage-developer-hub-backstage.apps-crc.testing/ |\n",
    "| -- | -- |\n",
    "\n",
    "If you want to run the demo fully offline, you need to execute all the `yarn add` steps in individual demos while you're connected. This will cache all the NPM packages from NPMJS registry to Verdaccio. Any subsequent run of `yarn add` for those same dependencies will fetch them from the local Verdaccio NPM registry mirror.\n",
    "\n",
    "Additionally you will need to downoload the `backstage` chart locally as well. You can pull it via:"
   ]
  },
  {
   "cell_type": "code",
   "execution_count": 3,
   "metadata": {},
   "outputs": [],
   "source": [
    "!helm pull openshift-helm-charts/redhat-developer-hub --version 1.1.0"
   ]
  }
 ],
 "metadata": {
  "kernelspec": {
   "display_name": ".venv",
   "language": "python",
   "name": "python3"
  },
  "language_info": {
   "codemirror_mode": {
    "name": "ipython",
    "version": 3
   },
   "file_extension": ".py",
   "mimetype": "text/x-python",
   "name": "python",
   "nbconvert_exporter": "python",
   "pygments_lexer": "ipython3",
   "version": "3.10.9"
  }
 },
 "nbformat": 4,
 "nbformat_minor": 2
}
