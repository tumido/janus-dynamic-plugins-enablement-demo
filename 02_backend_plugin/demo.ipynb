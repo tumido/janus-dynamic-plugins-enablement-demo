{
 "cells": [
  {
   "cell_type": "markdown",
   "metadata": {},
   "source": [
    "# 🖥️ Review existing Backstage deployment\n",
    "\n",
    "**https://backstage-developer-hub-backstage.apps-crc.testing/**"
   ]
  },
  {
   "cell_type": "markdown",
   "metadata": {},
   "source": [
    "# 🧑‍💻 Create a new backend plugin\n",
    "\n",
    "All steps here are the same as when we are creating a static plugin"
   ]
  },
  {
   "cell_type": "markdown",
   "metadata": {},
   "source": [
    "## 1️⃣ Let's start by bootstrapping a new plugin using `@backstage/cli`"
   ]
  },
  {
   "cell_type": "code",
   "execution_count": 9,
   "metadata": {
    "dotnet_interactive": {
     "language": "pwsh"
    },
    "polyglot_notebook": {
     "kernelName": "pwsh"
    }
   },
   "outputs": [
    {
     "name": "stderr",
     "output_type": "stream",
     "text": [
      "\n",
      "\u001b[32mCreating backend plugin \u001b[36m@rhsummit2024/backstage-plugin-demo-backend\u001b[39m\u001b[32m\u001b[39m\n",
      "\n",
      " \u001b[32mChecking Prerequisites:\u001b[39m\n",
      "\u001b[32m  \u001b[32mavailability  \u001b[39m\u001b[32m\u001b[36mbackstage-plugin-demo-backend\u001b[39m\u001b[32m\u001b[39m \u001b[32m✔\u001b[39m \n",
      "\u001b[32m  \u001b[32mcreating      \u001b[39m\u001b[32m\u001b[36mtemp dir\u001b[39m\u001b[32m\u001b[39m \u001b[32m✔\u001b[39m \n",
      "\n",
      " \u001b[32mExecuting Template:\u001b[39m\n",
      "\u001b[32m  \u001b[32mtemplating    \u001b[39m\u001b[32m\u001b[36mREADME.md.hbs\u001b[39m\u001b[32m\u001b[39m \u001b[32m✔\u001b[39m \n",
      "\u001b[32m  \u001b[32mcopying       \u001b[39m\u001b[32m\u001b[36m.eslintrc.js\u001b[39m\u001b[32m\u001b[39m \u001b[32m✔\u001b[39m \n",
      "\u001b[32m  \u001b[32mtemplating    \u001b[39m\u001b[32m\u001b[36mpackage.json.hbs\u001b[39m\u001b[32m\u001b[39m \u001b[32m✔\u001b[39m \n",
      "\u001b[32m  \u001b[32mcopying       \u001b[39m\u001b[32m\u001b[36mtsconfig.json\u001b[39m\u001b[32m\u001b[39m \u001b[32m✔\u001b[39m \n",
      "\u001b[32m  \u001b[32mcopying       \u001b[39m\u001b[32m\u001b[36mindex.ts\u001b[39m\u001b[32m\u001b[39m \u001b[32m✔\u001b[39m \n",
      "\u001b[32m  \u001b[32mtemplating    \u001b[39m\u001b[32m\u001b[36mindex.ts.hbs\u001b[39m\u001b[32m\u001b[39m \u001b[32m✔\u001b[39m \n",
      "\u001b[32m  \u001b[32mtemplating    \u001b[39m\u001b[32m\u001b[36mplugin.ts.hbs\u001b[39m\u001b[32m\u001b[39m \u001b[32m✔\u001b[39m \n",
      "\u001b[32m  \u001b[32mcopying       \u001b[39m\u001b[32m\u001b[36msetupTests.ts\u001b[39m\u001b[32m\u001b[39m \u001b[32m✔\u001b[39m \n",
      "\u001b[32m  \u001b[32mcopying       \u001b[39m\u001b[32m\u001b[36mrouter.test.ts\u001b[39m\u001b[32m\u001b[39m \u001b[32m✔\u001b[39m \n",
      "\u001b[32m  \u001b[32mcopying       \u001b[39m\u001b[32m\u001b[36mrouter.ts\u001b[39m\u001b[32m\u001b[39m \u001b[32m✔\u001b[39m \n",
      "\n",
      " \u001b[32mInstalling:\u001b[39m\n",
      "\u001b[32m  \u001b[32mmoving        \u001b[39m\u001b[32m\u001b[36mbackstage-plugin-demo-backend\u001b[39m\u001b[32m\u001b[39m \u001b[32m✔\u001b[39m \n",
      "\u001b[32m  \u001b[32mexecuting     \u001b[39m\u001b[32m\u001b[36myarn install\u001b[39m\u001b[32m\u001b[39m \u001b[32m✔\u001b[39m \n",
      "\u001b[32m  \u001b[32mexecuting     \u001b[39m\u001b[32m\u001b[36myarn lint --fix\u001b[39m\u001b[32m\u001b[39m \u001b[32m✔\u001b[39m \n",
      "\n",
      "\u001b[32m🎉  Successfully created backend-plugin\u001b[39m\n",
      "\n"
     ]
    }
   ],
   "source": [
    "%%sh\n",
    "cd ../plugins\n",
    "\n",
    "npx @backstage/cli@0.26.4 new --scope @rhsummit2024 --select backend-plugin --option id=demo"
   ]
  },
  {
   "cell_type": "markdown",
   "metadata": {},
   "source": [
    "## 2️⃣ Next, let's copy over some example files and components"
   ]
  },
  {
   "cell_type": "code",
   "execution_count": 10,
   "metadata": {},
   "outputs": [
    {
     "name": "stdout",
     "output_type": "stream",
     "text": [
      "1️⃣\tCopying over example files...\n",
      "2️⃣\tInstalling dependencies for the examples above...\n",
      "🎉\tDone\n"
     ]
    }
   ],
   "source": [
    "%%bash\n",
    "\n",
    "echo -e \"1️⃣\\tCopying over example files...\"\n",
    "cp ./app-config.yaml ../plugins/backstage-plugin-demo-backend/\n",
    "\n",
    "echo -e \"2️⃣\\tInstalling dependencies for the examples above...\"\n",
    "cd ../plugins/backstage-plugin-demo-backend\n",
    "yarn add -s @backstage/backend-plugin-manager@npm:@janus-idp/backend-plugin-manager@v1.19.6  2> >(grep -v warning 1>&2)\n",
    "\n",
    "echo -e \"🎉\\tDone\""
   ]
  },
  {
   "cell_type": "markdown",
   "metadata": {},
   "source": [
    "## 3️⃣ Review example files\n",
    "\n",
    "| Plugin `index.ts` | [./src/index.ts](../plugins/backstage-plugin-demo-backend/src/index.ts)  |\n",
    "| --- | --- |\n",
    "| **Example router** | **[./src/service/router.ts](../plugins/backstage-plugin-demo-backend/src/service/router.ts)** |"
   ]
  },
  {
   "cell_type": "markdown",
   "metadata": {},
   "source": [
    "## 4️⃣ Prepare package for release"
   ]
  },
  {
   "cell_type": "code",
   "execution_count": 11,
   "metadata": {},
   "outputs": [
    {
     "name": "stdout",
     "output_type": "stream",
     "text": [
      "2️⃣\tMark package as public..\n",
      "🎉\tDone\n"
     ]
    }
   ],
   "source": [
    "%%sh\n",
    "cd ../plugins/backstage-plugin-demo-backend\n",
    "\n",
    "echo \"2️⃣\\tMark package as public..\"\n",
    "npm pkg delete \"private\"\n",
    "\n",
    "echo \"🎉\\tDone\""
   ]
  },
  {
   "cell_type": "markdown",
   "metadata": {},
   "source": [
    "# 🙇 Make plugin dynamic\n",
    "\n",
    "🎉🎉🎉🎉 **This is the new stuff!** 🎉🎉🎉🎉\n",
    "\n",
    "This follows steps from [Janus Showcase Dynamic plugins docs](https://github.com/janus-idp/backstage-showcase/blob/main/showcase-docs/dynamic-plugins.md#frontend-plugins)."
   ]
  },
  {
   "cell_type": "code",
   "execution_count": 12,
   "metadata": {},
   "outputs": [
    {
     "name": "stdout",
     "output_type": "stream",
     "text": [
      "1️⃣\tInstall @janus-idp/cli...\n",
      "2️⃣\tAdd exported assets to the package bundle...\n",
      "3️⃣\tAdd package scripts for release automation...\n",
      "🎉\tDone\n"
     ]
    }
   ],
   "source": [
    "%%bash\n",
    "echo -e \"1️⃣\\tInstall @janus-idp/cli...\"\n",
    "cd ../plugins/backstage-plugin-demo-backend\n",
    "yarn add -s -D @janus-idp/cli  2> >(grep -v warning 1>&2)\n",
    "\n",
    "echo -e \"2️⃣\\tAdd exported assets to the package bundle...\"\n",
    "npm pkg set \"files[1]\"=\"dist-dynamic/*.*\"\n",
    "npm pkg set \"files[2]\"=\"dist-dynamic/dist/**\"\n",
    "\n",
    "echo -e \"3️⃣\\tAdd package scripts for release automation...\"\n",
    "npm pkg set \"scripts.export-dynamic\"=\"janus-cli package export-dynamic-plugin\"\n",
    "npm pkg set \"scripts.postversion\"=\"yarn run export-dynamic\"\n",
    "\n",
    "echo -e \"🎉\\tDone\""
   ]
  },
  {
   "cell_type": "markdown",
   "metadata": {},
   "source": [
    "# 📦 Build and publish"
   ]
  },
  {
   "cell_type": "code",
   "execution_count": 13,
   "metadata": {},
   "outputs": [
    {
     "name": "stdout",
     "output_type": "stream",
     "text": [
      "\u001b[2K\u001b[1G\u001b[1myarn run v1.22.22\u001b[22m\n",
      "\u001b[2K\u001b[1G\u001b[2m$ /Users/tcoufal/Workspace/demo/plugins/backstage-plugin-demo-backend/node_modules/.bin/tsc\u001b[22m\n",
      "\u001b[2K\u001b[1GDone in 1.84s.\n",
      "\u001b[2K\u001b[1G\u001b[1myarn run v1.22.22\u001b[22m\n",
      "\u001b[2K\u001b[1G\u001b[2m$ backstage-cli package build\u001b[22m\n"
     ]
    },
    {
     "name": "stderr",
     "output_type": "stream",
     "text": [
      "(node:29861) [DEP0040] DeprecationWarning: The `punycode` module is deprecated. Please use a userland alternative instead.\n",
      "(Use `node --trace-deprecation ...` to show where the warning was created)\n"
     ]
    },
    {
     "name": "stdout",
     "output_type": "stream",
     "text": [
      "\u001b[2K\u001b[1GDone in 1.39s.\n",
      "\u001b[2K\u001b[1G\u001b[1myarn run v1.22.22\u001b[22m\n",
      "\u001b[2K\u001b[1G\u001b[2m$ janus-cli package export-dynamic-plugin\u001b[22m\n"
     ]
    },
    {
     "name": "stderr",
     "output_type": "stream",
     "text": [
      "(node:29865) [DEP0040] DeprecationWarning: The `punycode` module is deprecated. Please use a userland alternative instead.\n",
      "(Use `node --trace-deprecation ...` to show where the warning was created)\n",
      "Package doesn't seem to provide dynamic loading entrypoints. You might want to add dynamic loading entrypoints in a src/dynamic folder.\n"
     ]
    },
    {
     "name": "stdout",
     "output_type": "stream",
     "text": [
      "Moving '@backstage/backend-common' to peerDependencies\n",
      "Moving '@backstage/backend-defaults' to peerDependencies\n",
      "Moving '@backstage/backend-plugin-api' to peerDependencies\n",
      "Moving '@backstage/backend-plugin-manager' to peerDependencies\n",
      "Moving '@backstage/config' to peerDependencies\n"
     ]
    },
    {
     "name": "stderr",
     "output_type": "stream",
     "text": [
      "\u001b[32m  \u001b[32mexecuting     \u001b[39m\u001b[32m\u001b[36myarn install --production\u001b[39m\u001b[32m\u001b[39m \u001b[32m✔\u001b[39m \n",
      "\u001b[32mSaving self-contained config schema in \u001b[36m/Users/tcoufal/Workspace/demo/plugins/backstage-plugin-demo-backend/dist-dynamic/dist/configSchema.json\u001b[39m\u001b[32m\u001b[39m\n"
     ]
    },
    {
     "name": "stdout",
     "output_type": "stream",
     "text": [
      "\u001b[2K\u001b[1GDone in 4.59s.\n",
      "\u001b[2K\u001b[1G\u001b[1myarn publish v1.22.22\u001b[22m\n",
      "\u001b[2K\u001b[1G\u001b[2m[1/4]\u001b[22m Bumping version...\n",
      "\u001b[2K\u001b[1G\u001b[34minfo\u001b[39m Current version: 0.1.0\n",
      "\u001b[2K\u001b[1G\u001b[2m[2/4]\u001b[22m Logging in...\n",
      "\u001b[2K\u001b[1G\u001b[2m[3/4]\u001b[22m Publishing...\n",
      "\u001b[2K\u001b[1G\u001b[2m$ backstage-cli package prepack\u001b[22m\n",
      "\u001b[2K\u001b[1G\u001b[2m$ backstage-cli package postpack\u001b[22m\n",
      "\u001b[2K\u001b[1G\u001b[32msuccess\u001b[39m Published.\n",
      "\u001b[2K\u001b[1G\u001b[2m[4/4]\u001b[22m Revoking token...\n",
      "\u001b[2K\u001b[1G\u001b[34minfo\u001b[39m Not revoking login token, specified via config file.\n",
      "\u001b[2K\u001b[1GDone in 0.31s.\n"
     ]
    }
   ],
   "source": [
    "%%sh\n",
    "cd ../plugins/backstage-plugin-demo-backend\n",
    "\n",
    "yarn tsc\n",
    "yarn build\n",
    "yarn export-dynamic\n",
    "yarn publish"
   ]
  },
  {
   "cell_type": "markdown",
   "metadata": {},
   "source": [
    "Review published package `@rhsummit2024/backstage-plugin-demo-backend`"
   ]
  },
  {
   "cell_type": "code",
   "execution_count": 14,
   "metadata": {},
   "outputs": [
    {
     "name": "stdout",
     "output_type": "stream",
     "text": [
      "\n",
      "\u001b[4m\u001b[1m\u001b[32m@rhsummit2024/backstage-plugin-demo-backend\u001b[39m@\u001b[32m0.1.0\u001b[39m\u001b[22m\u001b[24m | \u001b[32mApache-2.0\u001b[39m | deps: \u001b[36m11\u001b[39m | versions: \u001b[33m1\u001b[39m\n",
      "Welcome to the demo backend plugin!\n",
      "\n",
      "dist\n",
      ".tarball: \u001b[36mhttp://verdaccio-verdaccio.apps-crc.testing/@rhsummit2024/backstage-plugin-demo-backend/-/backstage-plugin-demo-backend-0.1.0.tgz\u001b[39m\n",
      ".shasum: \u001b[33m064d562983f6110138c112d4d79616944e52c560\u001b[39m\n",
      ".integrity: \u001b[33msha512-iYJbcorHf5pIPssQjyF/tand1b/BmLfdgicaRVaENcF4oLP1yOArukBkQpooyEOY7AfZ4K2+170AKqWk5iB7NA==\u001b[39m\n",
      "\n",
      "dependencies:\n",
      "\u001b[33m@backstage/backend-common\u001b[39m: ^0.21.7\n",
      "\u001b[33m@backstage/backend-defaults\u001b[39m: ^0.2.17\n",
      "\u001b[33m@backstage/backend-plugin-api\u001b[39m: ^0.6.17\n",
      "\u001b[33m@backstage/backend-plugin-manager\u001b[39m: npm:@janus-idp/backend-plugin-manager@v1.19.6\n",
      "\u001b[33m@backstage/config\u001b[39m: ^1.2.0\n",
      "\u001b[33m@types/express\u001b[39m: ^4.17.6\n",
      "\u001b[33mexpress-promise-router\u001b[39m: ^4.1.0\n",
      "\u001b[33mexpress\u001b[39m: ^4.17.1\n",
      "\u001b[33mnode-fetch\u001b[39m: ^2.6.7\n",
      "\u001b[33mwinston\u001b[39m: ^3.2.1\n",
      "\u001b[33myn\u001b[39m: ^4.0.0\n",
      "\n",
      "dist-tags:\n",
      "\u001b[1m\u001b[32mlatest\u001b[39m\u001b[22m: 0.1.0  \n",
      "\n",
      "published \u001b[33mjust now\u001b[39m\n"
     ]
    }
   ],
   "source": [
    "!npm info @rhsummit2024/backstage-plugin-demo-backend"
   ]
  },
  {
   "cell_type": "markdown",
   "metadata": {},
   "source": [
    "# ☁️ Deploy\n",
    "\n",
    "Now let's update our Backstage instance with the new Plugin\n",
    "\n",
    "| Helm values snippet | [values.yaml](./values.yaml)  |\n",
    "| --- | --- |"
   ]
  },
  {
   "cell_type": "code",
   "execution_count": 1,
   "metadata": {},
   "outputs": [
    {
     "name": "stdout",
     "output_type": "stream",
     "text": [
      "Release \"backstage\" has been upgraded. Happy Helming!\n",
      "NAME: backstage\n",
      "LAST DEPLOYED: Wed May  8 10:20:15 2024\n",
      "NAMESPACE: backstage\n",
      "STATUS: deployed\n",
      "REVISION: 5\n"
     ]
    }
   ],
   "source": [
    "%%bash\n",
    "\n",
    "INTEGRITY=$(npm info @rhsummit2024/backstage-plugin-demo-backend --json | jq -r '.dist.integrity')\n",
    "helm upgrade  -i backstage --reuse-values -f values.yaml --set global.dynamic.plugins[0].integrity=$INTEGRITY ../00_setup/developer-hub-1.1.0.tgz"
   ]
  },
  {
   "cell_type": "markdown",
   "metadata": {},
   "source": [
    "# 🧹 Optional: Cleanup\n",
    "\n",
    "Let's undeploy and unpublish the plugin"
   ]
  },
  {
   "cell_type": "code",
   "execution_count": 8,
   "metadata": {},
   "outputs": [
    {
     "name": "stdout",
     "output_type": "stream",
     "text": [
      "Release \"backstage\" has been upgraded. Happy Helming!\n",
      "NAME: backstage\n",
      "LAST DEPLOYED: Wed May  8 10:15:37 2024\n",
      "NAMESPACE: backstage\n",
      "STATUS: deployed\n",
      "REVISION: 3\n"
     ]
    },
    {
     "name": "stderr",
     "output_type": "stream",
     "text": [
      "npm WARN using --force Recommended protections disabled.\n"
     ]
    },
    {
     "name": "stdout",
     "output_type": "stream",
     "text": [
      "- @rhsummit2024/backstage-plugin-demo-backend\n"
     ]
    }
   ],
   "source": [
    "%%bash\n",
    "\n",
    "\n",
    "helm upgrade  -i backstage --reuse-values -f values.yaml --set global.dynamic.plugins=null ../00_setup/developer-hub-1.1.0.tgz\n",
    "npm unpublish --force @rhsummit2024/backstage-plugin-demo-backend || true\n",
    "rm -rf ../plugins/backstage-plugin-demo-backend"
   ]
  }
 ],
 "metadata": {
  "kernelspec": {
   "display_name": ".venv",
   "language": "python",
   "name": "python3"
  },
  "language_info": {
   "codemirror_mode": {
    "name": "ipython",
    "version": 3
   },
   "file_extension": ".py",
   "mimetype": "text/x-python",
   "name": "python",
   "nbconvert_exporter": "python",
   "pygments_lexer": "ipython3",
   "version": "3.10.9"
  },
  "polyglot_notebook": {
   "kernelInfo": {
    "defaultKernelName": "csharp",
    "items": [
     {
      "aliases": [],
      "name": "csharp"
     }
    ]
   }
  }
 },
 "nbformat": 4,
 "nbformat_minor": 2
}
